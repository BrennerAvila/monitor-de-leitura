{
  "nbformat": 4,
  "nbformat_minor": 0,
  "metadata": {
    "colab": {
      "provenance": []
    },
    "kernelspec": {
      "name": "python3",
      "display_name": "Python 3"
    },
    "language_info": {
      "name": "python"
    }
  },
  "cells": [
    {
      "cell_type": "code",
      "execution_count": null,
      "metadata": {
        "colab": {
          "base_uri": "https://localhost:8080/"
        },
        "id": "eE0TI1OkSVNi",
        "outputId": "5b22622c-01a0-4f46-aa1a-c58af92e673d"
      },
      "outputs": [
        {
          "output_type": "stream",
          "name": "stdout",
          "text": [
            "=== MONITOR DE LEITURA ===\n"
          ]
        }
      ],
      "source": [
        "print(\"=== MONITOR DE LEITURA ===\")\n",
        "\n",
        "# Recebendo dois inputs do usuário\n",
        "paginas_hoje = int(input(\"Quantas páginas você leu hoje? \"))\n",
        "paginas_semana = int(input(\"Quantas páginas você já leu esta semana antes de hoje? \"))\n",
        "\n",
        "# Operações matemáticas\n",
        "total_paginas = paginas_hoje + paginas_semana\n",
        "media_diaria = total_paginas / 7\n",
        "diferenca = abs(paginas_hoje - paginas_semana)\n",
        "projecao_mensal = total_paginas * 4  # projeção com base na semana\n",
        "\n",
        "# Condicional para indicar o nível de leitura\n",
        "if total_paginas <= 20:\n",
        "    nivel = \"Leitor iniciante\"\n",
        "elif total_paginas <= 70:\n",
        "    nivel = \"Leitor casual\"\n",
        "elif total_paginas <= 150:\n",
        "    nivel = \"Leitor esforçado\"\n",
        "elif total_paginas <= 250:\n",
        "    nivel = \"Leitor dedicado\"\n",
        "else:\n",
        "    nivel = \"Leitor devorador de livros!\"\n",
        "\n",
        "# Saída dos resultados\n",
        "print(\"\\n=== RELATÓRIO DE LEITURA ===\")\n",
        "print(f\"Total de páginas lidas na semana: {total_paginas}\")\n",
        "print(f\"Média de leitura por dia: {media_diaria:.2f} páginas\")\n",
        "print(f\"Projeção mensal (se mantiver o ritmo): {projecao_mensal} páginas\")\n",
        "print(f\"Você está no nível: {nivel}\")\n",
        "\n",
        "# Laço para permitir que o usuário repita ou finalize\n",
        "while True:\n",
        "    repetir = input(\"\\nDeseja calcular novamente com outros valores? (s/n): \").lower()\n",
        "    if repetir == 's':\n",
        "        print(\"\\nReiniciando...\\n\")\n",
        "        # Reinicia o script no ambiente interativo\n",
        "        paginas_hoje = int(input(\"Quantas páginas você leu hoje? \"))\n",
        "        paginas_semana = int(input(\"Quantas páginas você já leu esta semana antes de hoje? \"))\n",
        "        # Você pode copiar o código acima daqui para baixo para refazer o cálculo\n",
        "        break\n",
        "    elif repetir == 'n':\n",
        "        print(\"Continue firme na leitura! 📚\")\n",
        "        break\n",
        "    else:\n",
        "        print(\"Opção inválida. Digite 's' para sim ou 'n' para não.\")"
      ]
    }
  ]
}